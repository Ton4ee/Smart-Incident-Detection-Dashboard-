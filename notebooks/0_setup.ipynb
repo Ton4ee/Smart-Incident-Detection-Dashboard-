{
 "cells": [
  {
   "cell_type": "code",
   "execution_count": 1,
   "id": "38ecf309-8627-4d37-a251-9a61d7f99996",
   "metadata": {},
   "outputs": [
    {
     "name": "stdout",
     "output_type": "stream",
     "text": [
      "Notebook CWD: C:\\Users\\Antonio\\smart-incident-dashboard\\notebooks\n",
      "Changed CWD to project root: C:\\Users\\Antonio\\smart-incident-dashboard\n",
      "data/ contents: ['cleaned_ids2018_sampled.csv']\n"
     ]
    }
   ],
   "source": [
    "# 0_setup: confirm paths and working dir\n",
    "import os, sys\n",
    "from pathlib import Path\n",
    "\n",
    "# If your notebooks folder is notebooks/, set project root as parent\n",
    "NOTebooks_DIR = Path().resolve()\n",
    "print(\"Notebook CWD:\", NOTebooks_DIR)\n",
    "\n",
    "# If CWD is not project root, change it to project root (one level up)\n",
    "# This assumes you opened Jupyter with working dir = project root, but just in case:\n",
    "proj_root = NOTebooks_DIR.parent if NOTebooks_DIR.name == \"notebooks\" else NOTebooks_DIR\n",
    "os.chdir(proj_root)\n",
    "print(\"Changed CWD to project root:\", os.getcwd())\n",
    "\n",
    "# List data folder\n",
    "print(\"data/ contents:\", os.listdir(\"data\"))\n"
   ]
  },
  {
   "cell_type": "code",
   "execution_count": null,
   "id": "5eb326b6-5aa1-49c2-a096-5c3ba9c2a4d1",
   "metadata": {},
   "outputs": [],
   "source": []
  }
 ],
 "metadata": {
  "kernelspec": {
   "display_name": "Python 3 (ipykernel)",
   "language": "python",
   "name": "python3"
  },
  "language_info": {
   "codemirror_mode": {
    "name": "ipython",
    "version": 3
   },
   "file_extension": ".py",
   "mimetype": "text/x-python",
   "name": "python",
   "nbconvert_exporter": "python",
   "pygments_lexer": "ipython3",
   "version": "3.13.6"
  }
 },
 "nbformat": 4,
 "nbformat_minor": 5
}
