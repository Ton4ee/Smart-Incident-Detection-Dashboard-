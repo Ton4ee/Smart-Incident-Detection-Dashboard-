{
 "cells": [
  {
   "cell_type": "code",
   "execution_count": 7,
   "id": "0631ea32-351e-4177-a90f-c6f2e7d7ef32",
   "metadata": {},
   "outputs": [
    {
     "name": "stdout",
     "output_type": "stream",
     "text": [
      "Loaded: (1252846, 79)\n"
     ]
    }
   ],
   "source": [
    "import pandas as pd, numpy as np, json, os\n",
    "from pathlib import Path\n",
    "\n",
    "# Load dataset (project root is CWD)\n",
    "df = pd.read_csv(\"../data/cleaned_ids2018_sampled.csv\", low_memory=False)\n",
    "print(\"Loaded:\", df.shape)\n"
   ]
  },
  {
   "cell_type": "code",
   "execution_count": 8,
   "id": "caed0e94-6e79-4afb-a733-47630670d147",
   "metadata": {},
   "outputs": [
    {
     "name": "stdout",
     "output_type": "stream",
     "text": [
      "Label\n",
      "1    971016\n",
      "4    137185\n",
      "5     57507\n",
      "2     38703\n",
      "3     37323\n",
      "Name: count, dtype: int64\n",
      "  Label  is_attack\n",
      "0     1          1\n",
      "1     1          1\n",
      "2     1          1\n",
      "3     1          1\n",
      "4     1          1\n"
     ]
    }
   ],
   "source": [
    "# Ensure Label column is read as string\n",
    "df['Label'] = df['Label'].astype(str)\n",
    "\n",
    "# Create binary column: 0 = benign, 1 = attack\n",
    "df['is_attack'] = (df['Label'].str.lower() != 'benign').astype(int)\n",
    "\n",
    "print(df['Label'].value_counts().head())\n",
    "print(df[['Label','is_attack']].head())\n"
   ]
  },
  {
   "cell_type": "code",
   "execution_count": 9,
   "id": "aded112c-6c42-4623-8ef9-eafe39d79912",
   "metadata": {},
   "outputs": [],
   "source": [
    "from sklearn.preprocessing import LabelEncoder\n",
    "\n",
    "cat_cols = df.select_dtypes(include=['object']).columns.tolist()\n",
    "cat_cols = [c for c in cat_cols if c != 'Label']  # keep Label for now\n",
    "\n",
    "for c in cat_cols:\n",
    "    if df[c].nunique() < 500:   # tune threshold\n",
    "        df[c] = df[c].fillna(\"nan_missing\")\n",
    "        df[c] = LabelEncoder().fit_transform(df[c].astype(str))\n",
    "    else:\n",
    "        # if a very high-cardinality string-like column, drop it (or treat differently)\n",
    "        df = df.drop(columns=[c])\n",
    "        print(f\"DROPPED high-cardinality column: {c}\")\n"
   ]
  },
  {
   "cell_type": "code",
   "execution_count": 10,
   "id": "fff5c546-e284-40d0-b178-ea4d2d05a3ab",
   "metadata": {},
   "outputs": [
    {
     "name": "stdout",
     "output_type": "stream",
     "text": [
      "Train shape: (1002276, 78) Test shape: (250570, 78)\n"
     ]
    }
   ],
   "source": [
    "from sklearn.model_selection import train_test_split\n",
    "\n",
    "feature_cols = [c for c in df.columns if c not in ('Label','is_attack')]\n",
    "X = df[feature_cols]\n",
    "y = df['is_attack']\n",
    "\n",
    "X_train, X_test, y_train, y_test = train_test_split(\n",
    "    X, y, stratify=y, test_size=0.2, random_state=42\n",
    ")\n",
    "\n",
    "print(\"Train shape:\", X_train.shape, \"Test shape:\", X_test.shape)\n"
   ]
  },
  {
   "cell_type": "code",
   "execution_count": 11,
   "id": "3c638a46-5833-4ffb-8518-0fd0043af58c",
   "metadata": {},
   "outputs": [
    {
     "name": "stdout",
     "output_type": "stream",
     "text": [
      "              precision    recall  f1-score   support\n",
      "\n",
      "           1       1.00      1.00      1.00    250570\n",
      "\n",
      "    accuracy                           1.00    250570\n",
      "   macro avg       1.00      1.00      1.00    250570\n",
      "weighted avg       1.00      1.00      1.00    250570\n",
      "\n"
     ]
    },
    {
     "name": "stderr",
     "output_type": "stream",
     "text": [
      "C:\\Users\\Antonio\\smart-incident-dashboard\\.venv\\Lib\\site-packages\\sklearn\\metrics\\_classification.py:534: UserWarning: A single label was found in 'y_true' and 'y_pred'. For the confusion matrix to have the correct shape, use the 'labels' parameter to pass all known labels.\n",
      "  warnings.warn(\n"
     ]
    },
    {
     "data": {
      "image/png": "[encoded data removed]",
      "text/plain": [
       "<Figure size 640x480 with 2 Axes>"
      ]
     },
     "metadata": {},
     "output_type": "display_data"
    }
   ],
   "source": [
    "from sklearn.pipeline import Pipeline\n",
    "from sklearn.impute import SimpleImputer\n",
    "from sklearn.preprocessing import StandardScaler\n",
    "from sklearn.ensemble import RandomForestClassifier\n",
    "from sklearn.metrics import classification_report, confusion_matrix\n",
    "\n",
    "pipe = Pipeline([\n",
    "    ('imputer', SimpleImputer(strategy='median')),\n",
    "    ('scaler', StandardScaler()),\n",
    "    ('clf', RandomForestClassifier(n_estimators=200, class_weight='balanced', n_jobs=-1, random_state=42))\n",
    "])\n",
    "\n",
    "pipe.fit(X_train, y_train)\n",
    "\n",
    "# preds + metrics\n",
    "preds = pipe.predict(X_test)\n",
    "print(classification_report(y_test, preds))\n",
    "import matplotlib.pyplot as plt, seaborn as sns\n",
    "sns.heatmap(confusion_matrix(y_test, preds), annot=True, fmt='d')\n",
    "plt.title(\"Confusion Matrix\")\n",
    "plt.show()\n"
   ]
  },
  {
   "cell_type": "code",
   "execution_count": 12,
   "id": "0b5429e5-252b-4be3-8b3c-1361d0e6cb44",
   "metadata": {},
   "outputs": [
    {
     "name": "stdout",
     "output_type": "stream",
     "text": [
      "Saved model to models\\rf_pipeline.joblib\n",
      "Saved feature names to models\\feature_names.json\n"
     ]
    }
   ],
   "source": [
    "import joblib\n",
    "from pathlib import Path, PurePath\n",
    "p = Path(\"models\")\n",
    "p.mkdir(exist_ok=True)\n",
    "\n",
    "model_path = p / \"rf_pipeline.joblib\"\n",
    "joblib.dump(pipe, model_path)\n",
    "print(\"Saved model to\", model_path)\n",
    "\n",
    "# Save expected feature order so API can reconstruct input columns\n",
    "feature_file = p / \"feature_names.json\"\n",
    "import json\n",
    "with open(feature_file, \"w\") as f:\n",
    "    json.dump(feature_cols, f)\n",
    "print(\"Saved feature names to\", feature_file)\n"
   ]
  }
 ],
 "metadata": {
  "kernelspec": {
   "display_name": "Python 3 (ipykernel)",
   "language": "python",
   "name": "python3"
  },
  "language_info": {
   "codemirror_mode": {
    "name": "ipython",
    "version": 3
   },
   "file_extension": ".py",
   "mimetype": "text/x-python",
   "name": "python",
   "nbconvert_exporter": "python",
   "pygments_lexer": "ipython3",
   "version": "3.13.6"
  }
 },
 "nbformat": 4,
 "nbformat_minor": 5
}
